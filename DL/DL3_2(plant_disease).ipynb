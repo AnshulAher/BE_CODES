{
  "cells": [
    {
      "cell_type": "code",
      "execution_count": null,
      "id": "fc7e2961",
      "metadata": {
        "id": "fc7e2961"
      },
      "outputs": [],
      "source": [
        "!pip install tensorflow tensorflow_datasets"
      ]
    },
    {
      "cell_type": "code",
      "execution_count": null,
      "id": "46ae8182",
      "metadata": {
        "id": "46ae8182"
      },
      "outputs": [],
      "source": [
        "import tensorflow as tf\n",
        "import tensorflow_datasets as tfds"
      ]
    },
    {
      "cell_type": "code",
      "execution_count": null,
      "id": "da871c78",
      "metadata": {
        "id": "da871c78"
      },
      "outputs": [],
      "source": [
        "# Set a shorter path for TensorFlow Datasets\n",
        "import os\n",
        "os.environ['TFDS_DATA_DIR'] = 'tensorflow_datasets'\n",
        "\n",
        "# Load the Plant Village dataset\n",
        "(ds_train, ds_test), ds_info = tfds.load(\n",
        "    'plant_village',\n",
        "    split=['train[:80%]', 'train[80%:]'],\n",
        "    shuffle_files=True,\n",
        "    as_supervised=True,\n",
        "    with_info=True,\n",
        ")\n",
        "\n",
        "#load from existing\n",
        "#ds_train = tfds.load('plant_village', split='train[:80%]', as_supervised=True)\n",
        "#ds_test = tfds.load('plant_village', split='train[80%:]', as_supervised=True)\n"
      ]
    },
    {
      "cell_type": "code",
      "execution_count": null,
      "id": "3295a548",
      "metadata": {
        "id": "3295a548"
      },
      "outputs": [],
      "source": [
        "# Preprocessing function\n",
        "def preprocess(image, label):\n",
        "    image = tf.image.resize(image, (128, 128))\n",
        "    image = tf.cast(image, tf.float32) / 255.0  # Normalize to [0,1]\n",
        "    return image, label"
      ]
    },
    {
      "cell_type": "code",
      "execution_count": null,
      "id": "558e0e98",
      "metadata": {
        "id": "558e0e98"
      },
      "outputs": [],
      "source": [
        "# Apply preprocessing\n",
        "ds_train = ds_train.map(preprocess).batch(32).prefetch(tf.data.AUTOTUNE)\n",
        "ds_test = ds_test.map(preprocess).batch(32).prefetch(tf.data.AUTOTUNE)"
      ]
    },
    {
      "cell_type": "code",
      "execution_count": null,
      "id": "d97e369e",
      "metadata": {
        "id": "d97e369e"
      },
      "outputs": [],
      "source": [
        "# Build a simple CNN model\n",
        "model = tf.keras.Sequential([\n",
        "    tf.keras.layers.Conv2D(32, (3,3), activation='relu', input_shape=(128, 128, 3)),\n",
        "    tf.keras.layers.MaxPooling2D(2, 2),\n",
        "    tf.keras.layers.Conv2D(64, (3,3), activation='relu'),\n",
        "    tf.keras.layers.MaxPooling2D(2,2),\n",
        "    tf.keras.layers.Flatten(),\n",
        "    tf.keras.layers.Dense(128, activation='relu'),\n",
        "    tf.keras.layers.Dense(ds_info.features['label'].num_classes, activation='softmax')\n",
        "])"
      ]
    },
    {
      "cell_type": "code",
      "execution_count": null,
      "id": "5d011fba",
      "metadata": {
        "id": "5d011fba"
      },
      "outputs": [],
      "source": [
        "# Compile the model\n",
        "model.compile(optimizer='adam',\n",
        "              loss='sparse_categorical_crossentropy',\n",
        "              metrics=['accuracy'])"
      ]
    },
    {
      "cell_type": "code",
      "execution_count": null,
      "id": "5860cb20",
      "metadata": {
        "id": "5860cb20"
      },
      "outputs": [],
      "source": [
        "# Train the model\n",
        "model.fit(ds_train, epochs=2, validation_data=ds_test)"
      ]
    },
    {
      "cell_type": "code",
      "execution_count": null,
      "id": "5a6664a5",
      "metadata": {
        "id": "5a6664a5"
      },
      "outputs": [],
      "source": [
        "# Evaluate the model\n",
        "loss, acc = model.evaluate(ds_test)\n",
        "print(f\"Test Loss: {loss:.2f}\")\n",
        "print(f\"Test Accuracy: {acc:.2f}\")\n"
      ]
    },
    {
      "cell_type": "code",
      "execution_count": null,
      "id": "JFPQlcq5JEh4",
      "metadata": {
        "id": "JFPQlcq5JEh4"
      },
      "outputs": [],
      "source": [
        "import matplotlib.pyplot as plt\n",
        "\n",
        "# Display 5 sample images from the training set\n",
        "plt.figure(figsize=(10, 10))\n",
        "for i, (image, label) in enumerate(ds_train.take(5)):\n",
        "    ax = plt.subplot(5, 5, i + 1)\n",
        "    plt.imshow((image[0].numpy() * 255).astype(\"uint8\"))  # Multiply by 255 for conversion\n",
        "    plt.title(ds_info.features['label'].int2str(label[0].numpy()))\n",
        "    plt.axis(\"off\")\n",
        "plt.show()\n",
        "\n"
      ]
    },
    {
      "cell_type": "code",
      "execution_count": null,
      "id": "4KcjVv64JHNn",
      "metadata": {
        "id": "4KcjVv64JHNn"
      },
      "outputs": [],
      "source": [
        "\n",
        "# Predict for one test image using its index\n",
        "index = 69  # Change this to the desired index\n",
        "image, label = list(ds_test.take(index + 1))[-1]  # Get the (index+1)th element\n",
        "\n",
        "# Display the test image\n",
        "plt.imshow((image[0].numpy() * 255).astype(\"uint8\"))  # Multiply by 255 for conversion\n",
        "plt.title(ds_info.features['label'].int2str(label[0].numpy()))\n",
        "plt.axis(\"off\")\n",
        "plt.show()\n",
        "\n",
        "# Make the prediction\n",
        "prediction = model.predict(tf.expand_dims(image[0], axis=0))\n",
        "predicted_label = tf.argmax(prediction, axis=1).numpy()[0]\n",
        "\n",
        "# Print the prediction\n",
        "print(\"Predicted Label:\", ds_info.features['label'].int2str(predicted_label))"
      ]
    }
  ],
  "metadata": {
    "colab": {
      "provenance": []
    },
    "kernelspec": {
      "display_name": "Python 3",
      "name": "python3"
    },
    "language_info": {
      "codemirror_mode": {
        "name": "ipython",
        "version": 3
      },
      "file_extension": ".py",
      "mimetype": "text/x-python",
      "name": "python",
      "nbconvert_exporter": "python",
      "pygments_lexer": "ipython3",
      "version": "3.12.8"
    }
  },
  "nbformat": 4,
  "nbformat_minor": 5
}