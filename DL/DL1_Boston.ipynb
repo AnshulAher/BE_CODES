{
  "cells": [
    {
      "cell_type": "code",
      "execution_count": null,
      "metadata": {
        "collapsed": true,
        "id": "GkYcVLDw1h3s"
      },
      "outputs": [],
      "source": [
        "# !pip install pandas\n",
        "# !pip install numpy\n",
        "# !pip install matplotlib\n",
        "# !pip install scikit-learn\n",
        "# !pip install tensorflow"
      ]
    },
    {
      "cell_type": "code",
      "execution_count": null,
      "metadata": {
        "id": "t69emcEmvGqp"
      },
      "outputs": [],
      "source": [
        "import pandas as pd\n",
        "import numpy as np\n",
        "from sklearn.model_selection import train_test_split\n",
        "from sklearn.preprocessing import MinMaxScaler\n",
        "from tensorflow.keras.models import Sequential\n",
        "from tensorflow.keras.layers import Dense\n",
        "from tensorflow.keras.optimizers import Adam\n",
        "from tensorflow.keras.callbacks import EarlyStopping, ModelCheckpoint\n",
        "from sklearn.metrics import r2_score\n",
        "import matplotlib.pyplot as plt"
      ]
    },
    {
      "cell_type": "code",
      "execution_count": null,
      "metadata": {
        "id": "zpugcBrmyQfO"
      },
      "outputs": [],
      "source": [
        "# Load dataset from local file\n",
        "df = pd.read_csv('/content/1_boston_housing.csv')"
      ]
    },
    {
      "cell_type": "code",
      "execution_count": null,
      "metadata": {
        "id": "5oMpZjd_yWMT"
      },
      "outputs": [],
      "source": [
        "# Split features and target variable\n",
        "X = df.loc[:, df.columns != 'MEDV']\n",
        "y = df.loc[:, df.columns == 'MEDV']"
      ]
    },
    {
      "cell_type": "code",
      "execution_count": null,
      "metadata": {
        "id": "0excZYxUyYHt"
      },
      "outputs": [],
      "source": [
        "# Train-test split\n",
        "X_train, X_test, y_train, y_test = train_test_split(X, y, test_size=0.3, random_state=123)"
      ]
    },
    {
      "cell_type": "code",
      "execution_count": null,
      "metadata": {
        "id": "xFu9mTJzyanI"
      },
      "outputs": [],
      "source": [
        "# Feature scaling using MinMaxScaler\n",
        "mms = MinMaxScaler()\n",
        "mms.fit(X_train)\n",
        "X_train = mms.transform(X_train)\n",
        "X_test = mms.transform(X_test)"
      ]
    },
    {
      "cell_type": "code",
      "execution_count": null,
      "metadata": {
        "id": "7W_uPAKeydQ8"
      },
      "outputs": [],
      "source": [
        "# Build the neural network model\n",
        "model = Sequential()\n",
        "model.add(Dense(128, input_shape=(13,), activation='relu', name='dense_1'))\n",
        "model.add(Dense(64, activation='relu', name='dense_2'))\n",
        "model.add(Dense(1, activation='linear', name='dense_output'))"
      ]
    },
    {
      "cell_type": "code",
      "execution_count": null,
      "metadata": {
        "id": "KLLvCIv-ygyW"
      },
      "outputs": [],
      "source": [
        "# Compile the model\n",
        "model.compile(optimizer='adam', loss='mse', metrics=['mae'])"
      ]
    },
    {
      "cell_type": "code",
      "execution_count": null,
      "metadata": {
        "id": "PACs2pY-yhrF"
      },
      "outputs": [],
      "source": [
        "# Summary of the model\n",
        "model.summary()"
      ]
    },
    {
      "cell_type": "code",
      "execution_count": null,
      "metadata": {
        "id": "ygZYl505yjlw"
      },
      "outputs": [],
      "source": [
        "# Early stopping callback to prevent overfitting\n",
        "early_stopping = EarlyStopping(monitor='val_loss', patience=10, restore_best_weights=True)"
      ]
    },
    {
      "cell_type": "code",
      "execution_count": null,
      "metadata": {
        "id": "LjyzWUirylqi"
      },
      "outputs": [],
      "source": [
        "# Model checkpoint callback to save the best model based on validation loss\n",
        "checkpoint = ModelCheckpoint('best_model.h5', save_best_only=True, monitor='val_loss', mode='min')"
      ]
    },
    {
      "cell_type": "code",
      "execution_count": null,
      "metadata": {
        "id": "Oo3WkS_nyoe6"
      },
      "outputs": [],
      "source": [
        "# Train the model with validation split and callbacks\n",
        "history = model.fit(X_train, y_train, epochs=100, validation_split=0.05, verbose=1,\n",
        "                    callbacks=[early_stopping, checkpoint])"
      ]
    },
    {
      "cell_type": "code",
      "execution_count": null,
      "metadata": {
        "id": "xkXQrGayys7S"
      },
      "outputs": [],
      "source": [
        "# Evaluate the model on the test set\n",
        "mse_nn, mae_nn = model.evaluate(X_test, y_test)\n",
        "\n",
        "print('Mean squared error on test data: ', mse_nn)\n",
        "print('Mean absolute error on test data: ', mae_nn)"
      ]
    },
    {
      "cell_type": "code",
      "execution_count": null,
      "metadata": {
        "id": "CbQFAsZMywEp"
      },
      "outputs": [],
      "source": [
        "# Predict on test data\n",
        "y_pred = model.predict(X_test)"
      ]
    },
    {
      "cell_type": "code",
      "execution_count": null,
      "metadata": {
        "id": "VeGSoTVryx3e"
      },
      "outputs": [],
      "source": [
        "# Convert y_test and y_pred to 1D arrays for comparison\n",
        "y_test_flat = y_test.values.flatten()\n",
        "y_pred_flat = y_pred.flatten()"
      ]
    },
    {
      "cell_type": "code",
      "execution_count": null,
      "metadata": {
        "id": "lb5AImNly0El"
      },
      "outputs": [],
      "source": [
        "# Print first 10 predictions vs actual values\n",
        "print(\"\\nFirst 10 Predictions vs Actual:\")\n",
        "for true, pred in zip(y_test_flat[:10], y_pred_flat[:10]):\n",
        "    print(f\"Actual: {float(true):.2f}, Predicted: {float(pred):.2f}\")"
      ]
    },
    {
      "cell_type": "code",
      "execution_count": null,
      "metadata": {
        "id": "bX-ghe97y3Fc"
      },
      "outputs": [],
      "source": [
        "# Compute R² score\n",
        "r2 = r2_score(y_test_flat, y_pred_flat)\n",
        "print(f\"\\nR² Score on Test Data: {r2:.4f}\")"
      ]
    },
    {
      "cell_type": "code",
      "execution_count": null,
      "metadata": {
        "id": "zm-3lUWgy47F"
      },
      "outputs": [],
      "source": [
        "# Plot Actual vs Predicted House Prices\n",
        "plt.figure(figsize=(8,6))\n",
        "plt.scatter(y_test_flat, y_pred_flat, alpha=0.7)\n",
        "plt.plot([y_test_flat.min(), y_test_flat.max()], [y_test_flat.min(), y_test_flat.max()], 'r--')\n",
        "plt.xlabel('Actual MEDV')\n",
        "plt.ylabel('Predicted MEDV')\n",
        "plt.title('Actual vs Predicted House Prices')\n",
        "plt.grid(True)\n",
        "plt.show()"
      ]
    },
    {
      "cell_type": "code",
      "execution_count": null,
      "metadata": {
        "id": "UP1NNydgy7PF"
      },
      "outputs": [],
      "source": [
        "# Plot Residuals vs Predicted House Prices\n",
        "residuals = y_test_flat - y_pred_flat\n",
        "plt.figure(figsize=(8,6))\n",
        "plt.scatter(y_pred_flat, residuals)\n",
        "plt.axhline(y=0, color='r', linestyle='--')\n",
        "plt.xlabel('Predicted MEDV')\n",
        "plt.ylabel('Residuals')\n",
        "plt.title('Residuals vs Predicted House Prices')\n",
        "plt.grid(True)\n",
        "plt.show()"
      ]
    }
  ],
  "metadata": {
    "colab": {
      "provenance": []
    },
    "kernelspec": {
      "display_name": "Python 3",
      "name": "python3"
    },
    "language_info": {
      "name": "python"
    }
  },
  "nbformat": 4,
  "nbformat_minor": 0
}
